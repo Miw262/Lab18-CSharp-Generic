{
 "cells": [
  {
   "cell_type": "markdown",
   "metadata": {
    "polyglot_notebook": {
     "kernelName": "csharp"
    }
   },
   "source": [
    "# Lab 18 Exercise 1"
   ]
  },
  {
   "cell_type": "markdown",
   "metadata": {},
   "source": [
    "## Generic"
   ]
  },
  {
   "cell_type": "markdown",
   "metadata": {},
   "source": [
    "1.สร้าง console application project\n",
    "\n",
    "```cmd\n",
    "dotnet new console --name Lab18_Ex01\n",
    "```"
   ]
  },
  {
   "cell_type": "markdown",
   "metadata": {},
   "source": [
    "2.เปลี่ยน code ให้เป็นดังต่อไปนี้\n",
    "\n",
    "```csharp\n",
    "var IntCal  = new Calculator<int>();\n",
    "var IntResult = IntCal.Add(2,3);\n",
    "System.Console.WriteLine(IntResult);\n",
    "System.Console.WriteLine(\"Type of IntCal is \"+ IntCal.GetType());\n",
    "\n",
    "var FloatCal  = new Calculator<float>();\n",
    "var FloatResult = FloatCal.Add(2.5f, 3f);\n",
    "System.Console.WriteLine(FloatResult);\n",
    "System.Console.WriteLine(\"Type of IntCal is \"+ FloatCal.GetType());\n",
    "\n",
    "class Calculator<T>\n",
    "{\n",
    "    public T Add(T a, T b)\n",
    "    {\n",
    "        dynamic? number1 = a;\n",
    "        dynamic? number2 = b;\n",
    "        return number1 + number2;\n",
    "    }\n",
    "}\n",
    "```"
   ]
  },
  {
   "cell_type": "markdown",
   "metadata": {},
   "source": [
    "3.Build project โดยการใช้คำสั่ง\n",
    "\n",
    "```cmd\n",
    "dotnet build  Lab18_Ex01\n",
    "```\n",
    "\n",
    "ถ้ามีที่ผิดพลาดในโปรแกรม ให้แก้ไขให้ถูกต้อง"
   ]
  },
  {
   "cell_type": "markdown",
   "metadata": {},
   "source": [
    "\n",
    "✅ เพิ่ม using System; เพื่อให้สามารถใช้งาน Console.WriteLine() ได้\n",
    "✅ เพิ่ม class Program และ static void Main() เพราะ C# ต้องการ Main() เป็นจุดเริ่มต้นของโปรแกรม\n",
    "✅ ใช้ dynamic แทน dynamic? เพื่อหลีกเลี่ยงปัญหา null safety\n",
    "✅ แก้ไข \"Type of IntCal is\" เป็น \"Type of FloatCal is\" ให้ถูกต้อง"
   ]
  },
  {
   "cell_type": "markdown",
   "metadata": {},
   "source": [
    "4.บันทึกผลที่ได้จากการรันคำสั่งในข้อ 3"
   ]
  },
  {
   "cell_type": "markdown",
   "metadata": {},
   "source": [
    "เกิดเออเร่อ \n",
    "PS D:\\OOP\\lab18\\Lab18-CSharp-Generic> dotnet build  Lab18_Ex01\n",
    "Restore complete (0.3s)\n",
    "  Lab18_Ex01 failed with 2 error(s) (1.3s)\n",
    "    D:\\OOP\\lab18\\Lab18-CSharp-Generic\\Lab18_Ex01\\Program.cs(2,5): error CS1003: Syntax error, ',' expected\n",
    "    D:\\OOP\\lab18\\Lab18-CSharp-Generic\\Lab18_Ex01\\Program.cs(2,15): error CS1002: ; expected\n",
    "\n",
    "Build failed with 2 error(s) in 2.0s\n",
    "PS D:\\OOP\\lab18\\Lab18-CSharp-Generic> "
   ]
  },
  {
   "cell_type": "markdown",
   "metadata": {},
   "source": [
    "5.Run project โดยการใช้คำสั่ง\n",
    "\n",
    "```cmd\n",
    "dotnet run --project Lab18_Ex01\n",
    "```"
   ]
  },
  {
   "cell_type": "markdown",
   "metadata": {},
   "source": [
    "6.บันทึกผลที่ได้จากการรันคำสั่งในข้อ 5"
   ]
  },
  {
   "cell_type": "markdown",
   "metadata": {},
   "source": [
    "Type of IntCal is Calculator`1[System.Int32]\n",
    "5.5\n",
    "Type of FloatCal is Calculator`1[System.Single]"
   ]
  },
  {
   "cell_type": "markdown",
   "metadata": {},
   "source": [
    "7.อธิบายสิ่งที่พบในการทดลอง"
   ]
  },
  {
   "cell_type": "markdown",
   "metadata": {},
   "source": [
    "โค้ดนี้เป็นการใช้ Generics ใน C# เพื่อสร้างคลาส Calculator<T> ซึ่งสามารถรองรับการคำนวณค่าที่เป็นชนิดข้อมูลต่างๆ ได้ โดยในที่นี้ใช้ dynamic เพื่อให้สามารถบวกค่าที่มีชนิดข้อมูล T ได้โดยไม่ต้องกำหนดชนิดข้อมูลล่วงหน้า\n",
    "ปัญหาจาก dynamic และ Generic (T)\n",
    "\n",
    "การใช้ dynamic ทำให้เกิดการสูญเสียประสิทธิภาพ เพราะต้องแปลงชนิดข้อมูลในขณะรันไทม์ (Runtime) แทนที่จะใช้ชนิดข้อมูลที่ถูกต้องในขณะคอมไพล์ (Compile-time)\n",
    "\n",
    "return number1 + number2; ใช้ dynamic และคาดหวังให้ T รองรับการบวก ซึ่งไม่ใช่ทุกชนิดข้อมูลที่รองรับ (string, bool, หรือ object จะไม่ทำงาน)\n",
    "\n",
    "ความไม่ปลอดภัยของชนิดข้อมูล\n",
    "\n",
    "ถ้าใช้ Calculator<string> แล้วเรียก Add(\"Hello\", \"World\") จะเกิดข้อผิดพลาด เนื่องจาก T อาจไม่รองรับ + เสมอไป\n",
    "\n",
    "ไม่รองรับชนิดข้อมูลที่ไม่สามารถใช้ \n",
    "\n"
   ]
  }
 ],
 "metadata": {
  "kernelspec": {
   "display_name": ".NET (C#)",
   "language": "C#",
   "name": ".net-csharp"
  },
  "polyglot_notebook": {
   "kernelInfo": {
    "defaultKernelName": "csharp",
    "items": [
     {
      "aliases": [],
      "languageName": "csharp",
      "name": "csharp"
     }
    ]
   }
  }
 },
 "nbformat": 4,
 "nbformat_minor": 2
}
